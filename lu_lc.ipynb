{
 "cells": [
  {
   "cell_type": "code",
   "execution_count": 1,
   "id": "3abea765",
   "metadata": {},
   "outputs": [],
   "source": [
    "import os\n",
    "import ee\n",
    "import geemap\n",
    "import ipywidgets as widgets\n",
    "from bqplot import pyplot as plt\n",
    "from ipyleaflet import WidgetControl\n",
    "\n",
    "import pickle"
   ]
  },
  {
   "cell_type": "code",
   "execution_count": 2,
   "id": "13997827",
   "metadata": {},
   "outputs": [],
   "source": [
    "Map = geemap.Map(center=[-5.4083790576723585, 105.25749076790254], zoom=8, add_google_map=False)\n",
    "Map.add_basemap('HYBRID')"
   ]
  },
  {
   "cell_type": "code",
   "execution_count": 3,
   "id": "766d5da3",
   "metadata": {},
   "outputs": [
    {
     "data": {
      "application/vnd.jupyter.widget-view+json": {
       "model_id": "71f5497994b1448b881a070de94f5be4",
       "version_major": 2,
       "version_minor": 0
      },
      "text/plain": [
       "Map(center=[-5.4083790576723585, 105.25749076790254], controls=(WidgetControl(options=['position', 'transparen…"
      ]
     },
     "metadata": {},
     "output_type": "display_data"
    }
   ],
   "source": [
    "Map"
   ]
  },
  {
   "cell_type": "code",
   "execution_count": 4,
   "id": "3fbff9fe",
   "metadata": {},
   "outputs": [],
   "source": [
    "with open('trained_v1.pickle', 'rb') as f:\n",
    "    model = pickle.load(f)"
   ]
  },
  {
   "cell_type": "code",
   "execution_count": 5,
   "id": "65df1a26",
   "metadata": {},
   "outputs": [
    {
     "data": {
      "application/vnd.jupyter.widget-view+json": {
       "model_id": "dfc6a6e7a6484316a870531cbf441fe7",
       "version_major": 2,
       "version_minor": 0
      },
      "text/plain": [
       "VBox(children=(HBox(children=(Checkbox(value=False, description='Use user-drawn AOI', style=DescriptionStyle(d…"
      ]
     },
     "metadata": {},
     "output_type": "display_data"
    }
   ],
   "source": [
    "# Designe interactive widgets\n",
    "\n",
    "\n",
    "style = {'description_width': 'initial'}\n",
    "\n",
    "output_widget = widgets.Output(layout={'border': '1px solid black'})\n",
    "output_control = WidgetControl(widget=output_widget, position='bottomright')\n",
    "Map.add_control(output_control)\n",
    "\n",
    "aoi_widget = widgets.Checkbox(\n",
    "    value=False,\n",
    "    description='Use user-drawn AOI',\n",
    "    style=style\n",
    ")\n",
    "\n",
    "\n",
    "year_widget = widgets.IntSlider(min=1984, max=2021, value=2010, description='Selected year:', width=400, style=style)\n",
    "\n",
    "submit = widgets.Button(\n",
    "    description='Submit',\n",
    "    button_style='primary',\n",
    "    tooltip='Click me',\n",
    "    style=style\n",
    ")\n",
    "\n",
    "#labels\n",
    "step1 = widgets.Label('Step 1: Select the date')\n",
    "step2 = widgets.Label('Step 2: Select Region from the map')\n",
    "\n",
    "\"\"\"\n",
    "full_widget = widgets.HBox([\n",
    "    widgets.VBox([step1, dateBox]),\n",
    "    widgets.VBox([step2, submit])\n",
    "])\n",
    "\"\"\"\n",
    "\n",
    "full_widget = widgets.VBox([\n",
    "    widgets.HBox([aoi_widget, year_widget]),\n",
    "    submit\n",
    "])\n",
    "\n",
    "full_widget"
   ]
  },
  {
   "cell_type": "code",
   "execution_count": 6,
   "id": "5d4698f5",
   "metadata": {},
   "outputs": [],
   "source": [
    "def submit_clicked(b):\n",
    "    \n",
    "    with output_widget:\n",
    "        output_widget.clear_output()\n",
    "        print('Computing...')\n",
    "        Map.default_style = {'cursor': 'wait'}\n",
    "\n",
    "        try:\n",
    "            selected_year = year_widget.value\n",
    "            use_aoi = aoi_widget.value\n",
    "                       \n",
    "            if use_aoi:\n",
    "                if Map.user_roi is not None:\n",
    "                    roi = Map.user_roi\n",
    "                    layer_name = 'User drawn AOI'\n",
    "                    geom = roi\n",
    "                else:\n",
    "                    output_widget.clear_output() \n",
    "                    print('No user AOI could be found.')\n",
    "                    return\n",
    "            else:\n",
    "                print('No user AOI could be found.')\n",
    "                return\n",
    "               \n",
    "            image = (ee.ImageCollection('COPERNICUS/S2_SR')\n",
    "                     .filterBounds(Map.user_rois.geometry())\n",
    "                     .filterDate('2019-09-01', '2019-12-31')\n",
    "                     .filter(ee.Filter.lt('CLOUDY_PIXEL_PERCENTAGE',10))\n",
    "                     .median().clip(Map.user_rois.geometry())\n",
    "                     )\n",
    "\n",
    "            # Add the image layer to the map and display it.\n",
    "            Map.add_ee_layer(\n",
    "                image, {'bands': ['B4', 'B3', 'B2'],\n",
    "                        'min': 0, 'max': 2000}, 'sentinel')\n",
    "            \n",
    "            bands = ['B1', 'B2', 'B3', 'B4', 'B5', 'B6', 'B7']\n",
    "\n",
    "            result = image.select(bands).classify(model)\n",
    "\n",
    "            # # Display the clusters with the correspondent colors.\n",
    "            class_values = [0,1,2,3,4,5,6]\n",
    "            class_palette = ['3388ff', 'e72a08', '3ba702', 'e4f406', '44ff00','c88d0e','bab7b0']\n",
    "            landcover = result.set('classification_class_values', class_values)\n",
    "            landcover = landcover.set('classification_class_palette', class_palette)\n",
    "\n",
    "            Map.addLayer(landcover, {}, 'classified')\n",
    "\n",
    "            legend_dict = {\n",
    "                'Water': '3388ff',\n",
    "                'Bare soil': 'e72a08',\n",
    "                'Forest': '3ba702',\n",
    "                'Annual crop': 'e4f406',\n",
    "                'Perennial crop': '44ff00',\n",
    "                'Pasture': 'c88d0e',\n",
    "                'Urban area': 'bab7b0'}\n",
    "        \n",
    "            Map.add_legend(legend_dict=legend_dict)\n",
    "\n",
    "\n",
    "        except Exception as e:\n",
    "            print(e)\n",
    "            print('An error occurred during computation.')        \n",
    "\n",
    "        Map.default_style = {'cursor': 'default'}\n",
    "\n",
    "submit.on_click(submit_clicked)"
   ]
  },
  {
   "cell_type": "code",
   "execution_count": null,
   "id": "46221f58",
   "metadata": {},
   "outputs": [],
   "source": []
  }
 ],
 "metadata": {
  "hide_input": false,
  "kernelspec": {
   "display_name": "Python 3 (ipykernel)",
   "language": "python",
   "name": "python3"
  },
  "language_info": {
   "codemirror_mode": {
    "name": "ipython",
    "version": 3
   },
   "file_extension": ".py",
   "mimetype": "text/x-python",
   "name": "python",
   "nbconvert_exporter": "python",
   "pygments_lexer": "ipython3",
   "version": "3.8.13"
  },
  "toc": {
   "base_numbering": 1,
   "nav_menu": {},
   "number_sections": true,
   "sideBar": true,
   "skip_h1_title": false,
   "title_cell": "Table of Contents",
   "title_sidebar": "Contents",
   "toc_cell": false,
   "toc_position": {},
   "toc_section_display": true,
   "toc_window_display": false
  }
 },
 "nbformat": 4,
 "nbformat_minor": 5
}
